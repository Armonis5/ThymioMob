{
 "cells": [
  {
   "cell_type": "markdown",
   "metadata": {},
   "source": [
    "# Obstacle avoidance\n",
    "The obstacle avoidance is directly inside the Thymio robot. It uses the proximity sensors to detect obstacles and avoid them.\\\n",
    "If the robot detects an obstacle it will turn left or right depending on which side the obstacle is.\\\n",
    "If the robot detects an obstacle is state will change to 1.\\\n",
    "This state is synchronized with the state of the robot in the navigation thread so when it leave this avoidance state it will ask for a new global path.\\\n",
    "The speed of each wheel of the robot are controlled by the navigation thread and synchronized with tdmclient."
   ]
  },
  {
   "cell_type": "markdown",
   "metadata": {},
   "source": [
    "## Avoidance code inside the Thymio\n",
    "```python\n",
    "speed_left_global = 0\n",
    "speed_right_global = 0\n",
    "obstSpeedGain = [10, 4, -2, -6, -12]\n",
    "state_global = 0\n",
    "DELTA = 1\n",
    "PROX_TRESHOLD = 200\n",
    "timer_period[0] = 10  # 10ms sampling time\n",
    "\n",
    "@onevent \n",
    "def timer0():\n",
    "    global prox_ground_delta, prox_horizontal, speed0, speedGain,obstSpeedGain, motor_left_target, motor_right_target\n",
    "    global speed_left_global, speed_right_global, state_global, motor_left_speed, motor_right_speed\n",
    "    spLeft = speed_left_global\n",
    "    spRight = speed_right_global\n",
    "    state_global = 0\n",
    "    side_obstacle = False\n",
    "    # adjustment for obstacles (\"gradient\" due to obstacles)\n",
    "    for i in range(5):\n",
    "        spLeft += prox_horizontal[i] * obstSpeedGain[i] // 100\n",
    "        spRight += prox_horizontal[i] * obstSpeedGain[4 - i] // 100\n",
    "        if prox_horizontal[i] > PROX_TRESHOLD:\n",
    "            state_global = 1\n",
    "        if 0 < i and i < 4:\n",
    "            if (prox_horizontal[0] > PROX_TRESHOLD or prox_horizontal[4] > PROX_TRESHOLD ) and prox_horizontal[i] < PROX_TRESHOLD:\n",
    "                side_obstacle = True\n",
    "            else:\n",
    "                side_obstacle = False\n",
    "\n",
    "    if side_obstacle:\n",
    "        if prox_horizontal[0] > PROX_TRESHOLD:\n",
    "            spLeft += 5\n",
    "            spRight += 15\n",
    "        if  prox_horizontal[4] > PROX_TRESHOLD:\n",
    "            spLeft += 15\n",
    "            spRight += 5  \n",
    "\n",
    "\n",
    "    # motor control\n",
    "    motor_left_target = spLeft\n",
    "    motor_right_target = spRight\n",
    "\n"
   ]
  },
  {
   "cell_type": "markdown",
   "metadata": {},
   "source": [
    "## Syncronization function with the navigation thread\n",
    "```python\n",
    "@tdmclient.notebook.sync_var\n",
    "def thymio_speed(speed_left,speed_right):\n",
    "    global speed_left_global\n",
    "    global speed_right_global\n",
    "    speed_right_global = speed_right\n",
    "    speed_left_global = speed_left\n",
    "\n",
    "@tdmclient.notebook.sync_var\n",
    "def thymio_state(has_global_path):\n",
    "    global state_global\n",
    "    thymio_state = \"Local\"\n",
    "    if state_global == 1:\n",
    "        thymio_state = \"Avoidance\"\n",
    "        has_global_path = False\n",
    "    return thymio_state, has_global_path\n",
    "\n",
    "def thymio_turn(angle_diff):\n",
    "    if abs(angle_diff) > 10:\n",
    "        if angle_diff > 0:\n",
    "            thymio_speed(-50,50)\n",
    "            time.sleep(0.05*angle_diff)\n",
    "            thymio_speed(0,0)\n",
    "            time.sleep(0.1)\n",
    "        else:\n",
    "            thymio_speed(50,-50)\n",
    "            time.sleep(0.05*abs(angle_diff))\n",
    "            thymio_speed(0,0)\n",
    "            time.sleep(0.1)\n",
    "        return angle_diff*math.pi/180 # return in radians\n",
    "    return 0\n"
   ]
  },
  {
   "cell_type": "markdown",
   "metadata": {},
   "source": []
  }
 ],
 "metadata": {
  "language_info": {
   "name": "python"
  },
  "orig_nbformat": 4
 },
 "nbformat": 4,
 "nbformat_minor": 2
}
