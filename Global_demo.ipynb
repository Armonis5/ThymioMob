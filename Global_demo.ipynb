{
 "cells": [
  {
   "cell_type": "code",
   "execution_count": 1,
   "metadata": {},
   "outputs": [
    {
     "name": "stdout",
     "output_type": "stream",
     "text": [
      "16.263455967290593 16.263455967290593\n",
      "16.263455967290593 16.263455967290593\n",
      "9.341184719229295 21.017665618265916\n",
      "16.263455967290593 16.263455967290593\n",
      "16.263455967290593 16.263455967290593\n",
      "16.263455967290593 16.263455967290593\n",
      "shortest_path:  ['S', 'P2', 'G']\n",
      "coordinates:  [(50, 15), (123.2634559672906, 36.7365440327094), (144, 139)]\n"
     ]
    }
   ],
   "source": [
    "import numpy as np\n",
    "import matplotlib.pyplot as plt\n",
    "import Global_tomerge as global_nav\n",
    "import Global_display_functions as plt_glob"
   ]
  },
  {
   "cell_type": "markdown",
   "metadata": {},
   "source": [
    "Setting Parameters to display"
   ]
  },
  {
   "cell_type": "code",
   "execution_count": null,
   "metadata": {},
   "outputs": [],
   "source": [
    "object_corners = {\n",
    "    'Quadrilateral_1': [(53, 107), (107, 107), (107, 53), (53, 53)],\n",
    "    'Quadrilateral_2': [(120, 200), (200, 280), (280, 200), (200, 120)],\n",
    "    'Quadrilateral_3': [(243, 87), (297, 87), (297, 33), (243, 33)]\n",
    "}\n",
    "\n",
    "SandG = {\n",
    "\"start\" : (50,15),\n",
    "\"goal\" : (255, 250)\n",
    "}\n",
    "\n",
    "robot_size = 13"
   ]
  },
  {
   "cell_type": "markdown",
   "metadata": {},
   "source": [
    "The function grow obstacles is diffine for quadrilaterals since we had already decided to use only quadrilaterals as obstacles to ease the implementation. It takes the position of the oposite points and calculate the angle betweeen the points in order to find the values deltax and deltay that we should add to space the points by a value of half the robot size following the diagonal. Hence it will grow the obstacles to avoid collision. \n",
    "To add or remove the value deltax and deltay. I considered all the possibilities (case 1 to 4)"
   ]
  }
 ],
 "metadata": {
  "kernelspec": {
   "display_name": "base",
   "language": "python",
   "name": "python3"
  },
  "language_info": {
   "codemirror_mode": {
    "name": "ipython",
    "version": 3
   },
   "file_extension": ".py",
   "mimetype": "text/x-python",
   "name": "python",
   "nbconvert_exporter": "python",
   "pygments_lexer": "ipython3",
   "version": "3.11.5"
  }
 },
 "nbformat": 4,
 "nbformat_minor": 2
}
