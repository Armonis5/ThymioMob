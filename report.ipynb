{
 "cells": [
  {
   "cell_type": "code",
   "execution_count": 1,
   "metadata": {},
   "outputs": [],
   "source": [
    "import numpy as np\n",
    "import cv2\n",
    "import matplotlib.pyplot as plt\n",
    "import math\n",
    "import time\n",
    "import tdmclient\n",
    "import tdmclient.notebook\n",
    "import threading\n",
    "\n",
    "import camera as cam\n",
    "import vision_utils as utils\n",
    "import Global_tomerge as global_nav\n",
    "import local_nav as local_nav"
   ]
  },
  {
   "cell_type": "code",
   "execution_count": null,
   "metadata": {},
   "outputs": [],
   "source": []
  },
  {
   "cell_type": "code",
   "execution_count": null,
   "metadata": {},
   "outputs": [],
   "source": []
  },
  {
   "cell_type": "code",
   "execution_count": null,
   "metadata": {},
   "outputs": [],
   "source": []
  },
  {
   "cell_type": "code",
   "execution_count": 2,
   "metadata": {},
   "outputs": [],
   "source": [
    "global robot,goal, object_corners\n",
    "object_corners =[]\n",
    "robot=()\n",
    "goal=()\n",
    "\n",
    "\n",
    "\n"
   ]
  },
  {
   "cell_type": "markdown",
   "metadata": {},
   "source": [
    "**Navigation Thread**"
   ]
  },
  {
   "cell_type": "code",
   "execution_count": 4,
   "metadata": {},
   "outputs": [],
   "source": [
    "await tdmclient.notebook.start()"
   ]
  },
  {
   "cell_type": "code",
   "execution_count": 5,
   "metadata": {},
   "outputs": [],
   "source": [
    "@tdmclient.notebook.sync_var\n",
    "def thymio_speed(speed_left,speed_right):\n",
    "    global speed_left_global\n",
    "    global speed_right_global\n",
    "    speed_right_global = speed_right\n",
    "    speed_left_global = speed_left\n",
    "\n",
    "@tdmclient.notebook.sync_var\n",
    "def thymio_state(has_global_path):\n",
    "    global state_global\n",
    "    thymio_state = \"Local\"\n",
    "    if state_global == 1:\n",
    "        thymio_state = \"Avoidance\"\n",
    "        has_global_path = False\n",
    "    return thymio_state, has_global_path\n",
    "\n",
    "def thymio_turn(angle_diff):\n",
    "    if abs(angle_diff) > 10:\n",
    "        if angle_diff > 0:\n",
    "            motors(-50,50)\n",
    "            time.sleep(0.05*angle_diff)\n",
    "            motors(0,0)\n",
    "            time.sleep(0.1)\n",
    "        else:\n",
    "            motors(50,-50)\n",
    "            time.sleep(0.05*abs(angle_diff))\n",
    "            motors(0,0)\n",
    "            time.sleep(0.1)\n",
    "        return angle_diff*math.pi/180 # return in radians\n",
    "    return 0\n",
    "\n",
    "@tdmclient.notebook.sync_var\n",
    "def print_thymio_speed():\n",
    "    global motor_left_speed, motor_right_speed\n",
    "    mls = motor_left_speed\n",
    "    mrs = motor_right_speed\n",
    "    print(\"Left motor speed: \", mls)\n",
    "    print(\"Right motor speed: \", mrs)"
   ]
  },
  {
   "cell_type": "code",
   "execution_count": null,
   "metadata": {},
   "outputs": [],
   "source": [
    "thymio_speed(0,0)"
   ]
  },
  {
   "cell_type": "code",
   "execution_count": null,
   "metadata": {},
   "outputs": [],
   "source": [
    "print_thymio_speed()"
   ]
  },
  {
   "cell_type": "code",
   "execution_count": 6,
   "metadata": {},
   "outputs": [],
   "source": [
    "%%run_python\n",
    "speed_left_global = 0\n",
    "speed_right_global = 0\n",
    "speedGain = 0    \n",
    "obstSpeedGain = [6, 4, -2, -6, -8]\n",
    "state_global = 0\n",
    "DELTA = 1\n",
    "timer_period[0] = 10  # 10ms sampling time\n",
    "\n",
    "@onevent \n",
    "def timer0():\n",
    "    global prox_ground_delta, prox_horizontal, speed0, speedGain,obstSpeedGain, motor_left_target, motor_right_target\n",
    "    global speed_left_global, speed_right_global, state_global, motor_left_speed, motor_right_speed\n",
    "    spLeft = speed_left_global - speedGain\n",
    "    spRight = speed_right_global + speedGain\n",
    "    \n",
    "    # adjustment for obstacles (\"gradient\" due to obstacles)\n",
    "    for i in range(5):\n",
    "        spLeft += prox_horizontal[i] * obstSpeedGain[i] // 100\n",
    "        spRight += prox_horizontal[i] * obstSpeedGain[4 - i] // 100\n",
    "    # motor control\n",
    "    motor_left_target = spLeft\n",
    "    motor_right_target = spRight\n",
    "\n",
    "    if spLeft - spRight < DELTA and spRight - spLeft < DELTA:\n",
    "        state_global = 0\n",
    "    else:\n",
    "        state_global = 1\n",
    "\n"
   ]
  },
  {
   "cell_type": "code",
   "execution_count": 7,
   "metadata": {},
   "outputs": [],
   "source": [
    "def nav_thread():\n",
    "    global robot,goal, object_corners, angle_robot,path\n",
    "    state = 'Local'\n",
    "    has_gobal_path = False\n",
    "    robot = None\n",
    "    goal = None\n",
    "    angle_robot = 0\n",
    "    robot_size = 23\n",
    "    run = True\n",
    "    counter = 0\n",
    "    path = []\n",
    "    print('nav_thread')\n",
    "    while run:\n",
    "        state,has_gobal_path = thymio_state(has_gobal_path)\n",
    "        if state == \"Local\":\n",
    "            if not has_gobal_path:\n",
    "                # print('global')\n",
    "                if robot is not None:\n",
    "                    print('robot')\n",
    "                    RandG = global_nav.create_RandG_dict(robot, goal)\n",
    "                    object_corners = global_nav.create_dictionnary(object_corners)\n",
    "                    print(\"R+G\", RandG)\n",
    "                    print(\"object\", object_corners)\n",
    "                    expended_corners = global_nav.grow_obstacles(object_corners, robot_size)\n",
    "                    points_name2coord = global_nav.name2coord(expended_corners, RandG)\n",
    "                    adjacent_list = global_nav.generate_adjacency_list(expended_corners, RandG)\n",
    "                    distances = global_nav.calculate_distances(adjacent_list, points_name2coord)\n",
    "                    shortest_path = global_nav.find_path(adjacent_list, points_name2coord)\n",
    "                    for name in shortest_path:\n",
    "                        path.append(points_name2coord[name])\n",
    "                    has_gobal_path = True\n",
    "                    counter = 0\n",
    "            \n",
    "         # for local state\n",
    "            if path != []:\n",
    "                print(path)\n",
    "                x_pos = path[0][0]\n",
    "                y_pos = path[0][1]\n",
    "                theta = 0 # from camera\n",
    "                initial_state = np.array([x_pos, y_pos, 0.0, 0.0, theta, 0])\n",
    "                initial_covariance = np.diag([1.0, 1.0, 1.0, 1.0, 1.0, 1.0])  # Initial covariance matrix\n",
    "                process_noise = np.diag([0.03, 0.03, 0.01, 0.01, 0.02, 0.01])  # Process noise covariance matrix\n",
    "                measurement_noise = np.array([0.1, 0.1])  # Measurement noise variance\n",
    "\n",
    "                # Initialize Kalman filter\n",
    "                local_state = initial_state\n",
    "                covariance = initial_covariance\n",
    "                Ts = 1    \n",
    "                new_left_speed = 0\n",
    "                new_right_speed = 0\n",
    "                cor = 2 #correction factor for the target coordinates (1cm)\n",
    "                coordinate = path[counter+1]\n",
    "\n",
    "                if local_nav.check_target(state, coordinate, cor) == True:\n",
    "                    cam_working = robot is not None \n",
    "                    if cam_working:\n",
    "                        theta = robot_angle\n",
    "                    else:\n",
    "                        theta = local_state[4]\n",
    "\n",
    "                    left_speed = new_left_speed\n",
    "                    right_speed = new_right_speed\n",
    "                    input_val = np.array([local_nav.convert_speed(motor_left_target), local_nav.convert_speed(motor_right_target)])\n",
    "\n",
    "                    local_state, covariance = local_nav.predict(local_state, input_val, covariance, Ts, theta, process_noise)              \n",
    "                    local_state, covariance = local_nav.measure(local_state, covariance, cam_working, measurement_noise, np.array(robot))               \n",
    "                    \n",
    "                    if (state[0], state[1]) == global_path[0]:\n",
    "                        local_state, covariance = local_nav.predict(local_state, input_val, covariance, Ts, theta, process_noise)              \n",
    "                        local_state, covariance = local_nav.measure(local_state, covariance, cam_working)               \n",
    "                \n",
    "\n",
    "\n",
    "                    if check_target(state, coordinate, cor) == True: # when the target is reached, it doesn't need to turn anymore since that would lead to the robot spinning\n",
    "                        print('goal not reached')\n",
    "                        angle_diff = local_nav.turn_to_target((local_state[0],local_state[1]), coordinate, theta)\n",
    "                        time.sleep(0.1)\n",
    "                        theta = theta + angle_diff\n",
    "                        \n",
    "                        if not cam_working:\n",
    "                            state[4] = theta\n",
    "                        \n",
    "                        new_left_speed, new_right_speed = go_to_target((local_state[0],local_state[1]), coordinate, theta)\n",
    "                        local_nav.motors(new_left_speed, new_right_speed)\n",
    "                        time.sleep(Ts)\n",
    "\n",
    "                    else:\n",
    "                        angle_diff = 0\n",
    "                        print(\"goal reached\")\n",
    "                        motors(0, 0)\n",
    "                        time.sleep(Ts)\n",
    "\n",
    "                else:\n",
    "                    counter += 1\n",
    "                    if counter == len(path)-1:\n",
    "                        run = False\n",
    "                        thymio_speed(0,0)\n",
    "                        break\n"
   ]
  },
  {
   "cell_type": "code",
   "execution_count": 8,
   "metadata": {},
   "outputs": [],
   "source": [
    "nav_thread = threading.Thread(target=nav_thread)"
   ]
  },
  {
   "cell_type": "code",
   "execution_count": null,
   "metadata": {},
   "outputs": [],
   "source": []
  },
  {
   "cell_type": "markdown",
   "metadata": {},
   "source": [
    "***Camera Thread***"
   ]
  },
  {
   "cell_type": "code",
   "execution_count": 9,
   "metadata": {},
   "outputs": [],
   "source": [
    "import traceback\n",
    "def camera_thread():\n",
    "    global robot, goal, object_corners, angle_robot, cov_noise ,height, path       \n",
    "\n",
    "    try:\n",
    "        camera_index = 0\n",
    "        # If you are to use the cam object, make sure it is defined and initialized\n",
    "        # data = cam.capture_data(camera_index)\n",
    "        # cov_noise = cam.calculate_covariance_matrix(data)\n",
    "        cap = cv2.VideoCapture(camera_index)\n",
    "        \n",
    "        if not cap.isOpened():\n",
    "            print(\"Error opening video stream or file\")\n",
    "            return\n",
    "\n",
    "        mode = 'all'\n",
    "        color_type = 'RGB'\n",
    "\n",
    "        # Define thresholds initially\n",
    "        threshold  = [cam.COLOR_THRESHOLD,cam.SATURATION_THRESHOLD,cam.BRIGHTNESS_THRESHOLD]\n",
    "\n",
    "        cv2.namedWindow(\"Camera Vision\", cv2.WINDOW_NORMAL)\n",
    "\n",
    "        # Create Trackbars\n",
    "        cv2.createTrackbar(\"Color Threshold\", \"Camera Vision\", threshold[0], 200,\n",
    "                        lambda x: utils.on_trackbar(x, threshold, 0))\n",
    "        cv2.createTrackbar(\"Saturation Threshold\", \"Camera Vision\", threshold[1], 100,\n",
    "                        lambda x: utils.on_trackbar(x, threshold, 1))\n",
    "        cv2.createTrackbar(\"Brightness Threshold\", \"Camera Vision\", threshold[2], 200,\n",
    "                        lambda x: utils.on_trackbar(x, threshold, 2))\n",
    "        height = 100\n",
    "        width =75\n",
    "        origin = (0,0)\n",
    "        path = []\n",
    "\n",
    "        while True:\n",
    "            ret, frame = cap.read()\n",
    "            if not ret:\n",
    "                break\n",
    "\n",
    "            frame = cam.zoom_frame(frame,zoom_factor=1)\n",
    "            #print(\"Camera Path: \", path)\n",
    "            # Get updated threshold values from the trackbars\n",
    "            threshold_color = cv2.getTrackbarPos(\"Color Threshold\", \"Camera Vision\")\n",
    "            threshold_saturation = cv2.getTrackbarPos(\"Saturation Threshold\", \"Camera Vision\")\n",
    "            threshold_brightness = cv2.getTrackbarPos(\"Brightness Threshold\", \"Camera Vision\")\n",
    "\n",
    "            # Camera vision\n",
    "            frame, robot, angle_robot, goal, object_corners, map_corners, height,origin = cam.detection(\n",
    "                frame,\n",
    "                mode,\n",
    "                color_type,\n",
    "                threshold[0],  # Color threshold\n",
    "                threshold[1],  # Saturation threshold\n",
    "                threshold[2],  # Brightness threshold\n",
    "                width,\n",
    "                height,\n",
    "                origin\n",
    "            )\n",
    "            if robot is not None and goal is not None and path != []:\n",
    "                utils.frame_draw(frame,robot,path,goal)\n",
    "\n",
    "            cv2.imshow(\"Camera Vision\", frame)\n",
    "\n",
    "\n",
    "            key = cv2.waitKey(25) & 0xFF\n",
    "            if key == 27:  # ESC key to exit\n",
    "                break\n",
    "            elif key == ord('1'):  # '1' key to switch to blue mode\n",
    "                mode = 'blue'\n",
    "            elif key == ord('2'):  # '2' key to switch to green mode\n",
    "                mode = 'green'\n",
    "            elif key == ord('3'):  # '3' key to switch to black mode\n",
    "                mode = 'black'\n",
    "            elif key == ord('4'):  # '4' key to switch to black mode\n",
    "                mode = 'red'\n",
    "            elif key == ord('5'):  # '5' key to switch to RGB mode\n",
    "                color_type = 'RGB'\n",
    "            elif key == ord('6'):  # '6' key to switch to BGR mode\n",
    "                color_type = 'BGR'\n",
    "            elif key == ord('7'):\n",
    "                mode = 'all'\n",
    "\n",
    "            time.sleep(0.01)\n",
    "\n",
    "    except Exception as e:\n",
    "        print(f\"An error occurred: {e}\")\n",
    "        traceback.print_exc()\n",
    "    finally:\n",
    "        cap.release()\n",
    "        cv2.destroyAllWindows()\n",
    "        print(\"Done displaying the video\")\n"
   ]
  },
  {
   "cell_type": "code",
   "execution_count": null,
   "metadata": {},
   "outputs": [],
   "source": []
  },
  {
   "cell_type": "code",
   "execution_count": null,
   "metadata": {},
   "outputs": [],
   "source": [
    "camera_thread()"
   ]
  },
  {
   "cell_type": "code",
   "execution_count": 10,
   "metadata": {},
   "outputs": [],
   "source": [
    "camera_thread = threading.Thread(target=camera_thread)"
   ]
  },
  {
   "cell_type": "code",
   "execution_count": null,
   "metadata": {},
   "outputs": [],
   "source": []
  },
  {
   "cell_type": "code",
   "execution_count": null,
   "metadata": {},
   "outputs": [],
   "source": []
  },
  {
   "cell_type": "code",
   "execution_count": 11,
   "metadata": {},
   "outputs": [
    {
     "name": "stdout",
     "output_type": "stream",
     "text": [
      "An error occurred: unsupported operand type(s) for /: 'int' and 'tuple'\n",
      "Done displaying the video\n"
     ]
    },
    {
     "name": "stderr",
     "output_type": "stream",
     "text": [
      "Traceback (most recent call last):\n",
      "  File \"/tmp/ipykernel_34259/2282884862.py\", line 48, in camera_thread\n",
      "    frame, robot, angle_robot, goal, object_corners, map_corners, height,origin = cam.detection(\n",
      "                                                                                  ^^^^^^^^^^^^^^\n",
      "  File \"/home/Armonis/Documents/EPFL/Mobile_Robotics_Project/ThymioMob/camera.py\", line 250, in detection\n",
      "    black_coordinates = find_coordinates(black_contours, 'Black',height,origin)\n",
      "                        ^^^^^^^^^^^^^^^^^^^^^^^^^^^^^^^^^^^^^^^^^^^^^^^^^^^^^^^\n",
      "  File \"/home/Armonis/Documents/EPFL/Mobile_Robotics_Project/ThymioMob/camera.py\", line 104, in find_coordinates\n",
      "    corner = coordinate_to_IRL(corner,height,origin)\n",
      "             ^^^^^^^^^^^^^^^^^^^^^^^^^^^^^^^^^^^^^^^\n",
      "  File \"/home/Armonis/Documents/EPFL/Mobile_Robotics_Project/ThymioMob/camera.py\", line 299, in coordinate_to_IRL\n",
      "    factor = 100/height\n",
      "             ~~~^~~~~~~\n",
      "TypeError: unsupported operand type(s) for /: 'int' and 'tuple'\n"
     ]
    }
   ],
   "source": [
    "camera_thread.start()"
   ]
  },
  {
   "cell_type": "code",
   "execution_count": 20,
   "metadata": {},
   "outputs": [
    {
     "name": "stdout",
     "output_type": "stream",
     "text": [
      "nav_thread\n"
     ]
    },
    {
     "name": "stderr",
     "output_type": "stream",
     "text": [
      "Exception in thread Thread-6 (nav_thread):\n",
      "Traceback (most recent call last):\n",
      "  File \"/usr/lib/python3.11/threading.py\", line 1038, in _bootstrap_inner\n",
      "    self.run()\n",
      "  File \"/usr/lib/python3.11/threading.py\", line 975, in run\n",
      "    self._target(*self._args, **self._kwargs)\n",
      "  File \"/tmp/ipykernel_33230/1485117872.py\", line 26, in nav_thread\n",
      "  File \"/home/Armonis/Documents/EPFL/Mobile_Robotics_Project/ThymioMob/Global_tomerge.py\", line 243, in generate_adjacency_list\n",
      "    if is_connected(coord1, coord2, object_edges, RandG):\n",
      "       ^^^^^^^^^^^^^^^^^^^^^^^^^^^^^^^^^^^^^^^^^^^^^^^^^\n",
      "  File \"/home/Armonis/Documents/EPFL/Mobile_Robotics_Project/ThymioMob/Global_tomerge.py\", line 202, in is_connected\n",
      "    coordinate_to_name = {v: k for k, v in point_names.items()}\n",
      "                         ^^^^^^^^^^^^^^^^^^^^^^^^^^^^^^^^^^^^^^\n",
      "  File \"/home/Armonis/Documents/EPFL/Mobile_Robotics_Project/ThymioMob/Global_tomerge.py\", line 202, in <dictcomp>\n",
      "    coordinate_to_name = {v: k for k, v in point_names.items()}\n",
      "                         ^^^^^^^^^^^^^^^^^^^^^^^^^^^^^^^^^^^^^^\n",
      "TypeError: unhashable type: 'list'\n"
     ]
    },
    {
     "name": "stdout",
     "output_type": "stream",
     "text": [
      "robot\n",
      "R+G {'robot': (-44.1586306628488, -12.749089520018597), 'goal': [(36.12167300380228, 23.954372623574145)]}\n",
      "object {'object_1': [(-4.780114722753346, 113.95793499043977), (-4.780114722753346, 77.05544933078394), (-7.648183556405353, 77.05544933078394), (-7.648183556405353, 113.95793499043977)], 'object_2': [(8.221797323135755, 113.0019120458891), (4.780114722753346, 113.0019120458891), (4.780114722753346, 113.95793499043977), (8.221797323135755, 113.95793499043977)], 'object_3': [(21.797323135755256, 31.166347992351817), (21.41491395793499, 22.753346080305928), (8.604206500956023, 23.326959847036328), (8.98661567877629, 31.739961759082217)], 'object_4': [(21.988527724665392, 90.82217973231357), (21.797323135755256, 81.83556405353728), (7.456978967495219, 82.21797323135755), (7.648183556405353, 91.20458891013384)], 'object_5': [(43.21223709369025, 63.2887189292543), (42.82982791586998, 49.139579349904395), (23.709369024856596, 49.521988527724666), (24.091778202676863, 63.862332695984705)], 'object_6': [(57.36137667304015, 109.94263862332696), (42.82982791586998, 109.94263862332696), (42.82982791586998, 113.95793499043977), (57.36137667304015, 113.95793499043977)], 'object_7': [(70.17208413001912, 111.28107074569789), (70.36328871892925, 111.28107074569789), (70.36328871892925, 111.28107074569789), (70.17208413001912, 111.28107074569789)], 'object_8': [(71.70172084130019, 27.533460803059274), (71.12810707456978, 9.751434034416826), (53.53728489483748, 10.325047801147226), (54.11089866156787, 28.107074569789674)], 'object_9': [(71.89292543021033, 74.37858508604207), (60.61185468451243, 74.37858508604207), (60.61185468451243, 85.27724665391969), (71.89292543021033, 85.27724665391969)]}\n",
      "error\n",
      "error\n",
      "error\n",
      "error\n",
      "error\n",
      "error\n",
      "error\n",
      "error\n"
     ]
    },
    {
     "name": "stderr",
     "output_type": "stream",
     "text": [
      "[ WARN:1@88.683] global cap_v4l.cpp:872 requestBuffers VIDEOIO(V4L2:/dev/video0): failed VIDIOC_REQBUFS: errno=19 (No such device)\n"
     ]
    },
    {
     "name": "stdout",
     "output_type": "stream",
     "text": [
      "Done displaying the video\n"
     ]
    }
   ],
   "source": [
    "nav_thread.start()"
   ]
  },
  {
   "cell_type": "code",
   "execution_count": null,
   "metadata": {},
   "outputs": [],
   "source": [
    "camera_thread.join()"
   ]
  },
  {
   "cell_type": "code",
   "execution_count": null,
   "metadata": {},
   "outputs": [],
   "source": [
    "nav_thread.join()"
   ]
  },
  {
   "cell_type": "code",
   "execution_count": null,
   "metadata": {},
   "outputs": [],
   "source": []
  },
  {
   "cell_type": "code",
   "execution_count": null,
   "metadata": {},
   "outputs": [],
   "source": []
  }
 ],
 "metadata": {
  "kernelspec": {
   "display_name": "Python 3 (ipykernel)",
   "language": "python",
   "name": "python3"
  },
  "language_info": {
   "codemirror_mode": {
    "name": "ipython",
    "version": 3
   },
   "file_extension": ".py",
   "mimetype": "text/x-python",
   "name": "python",
   "nbconvert_exporter": "python",
   "pygments_lexer": "ipython3",
   "version": "3.11.5"
  },
  "orig_nbformat": 4
 },
 "nbformat": 4,
 "nbformat_minor": 2
}
