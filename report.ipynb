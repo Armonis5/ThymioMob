{
 "cells": [
  {
   "cell_type": "code",
   "execution_count": 8,
   "metadata": {},
   "outputs": [],
   "source": [
    "import numpy as np\n",
    "import cv2\n",
    "import matplotlib.pyplot as plt\n",
    "import math\n",
    "import time\n",
    "import tdmclient\n",
    "import tdmclient.notebook\n",
    "import threading\n",
    "\n",
    "import camera as cam\n",
    "import vision_utils as utils\n",
    "import Global_tomerge as global_nav\n",
    "import local_nav as local_nav"
   ]
  },
  {
   "cell_type": "code",
   "execution_count": 9,
   "metadata": {},
   "outputs": [],
   "source": [
    "global robot,goal, object_corners\n",
    "object_corners =[]\n",
    "robot=()\n",
    "goal=()\n",
    "\n",
    "\n",
    "\n"
   ]
  },
  {
   "cell_type": "markdown",
   "metadata": {},
   "source": [
    "**Navigation Thread**"
   ]
  },
  {
   "cell_type": "code",
   "execution_count": 10,
   "metadata": {},
   "outputs": [
    {
     "ename": "NodeLockError",
     "evalue": "Node lock error (current status: busy)",
     "output_type": "error",
     "traceback": [
      "\u001b[0;31m---------------------------------------------------------------------------\u001b[0m",
      "\u001b[0;31mNodeLockError\u001b[0m                             Traceback (most recent call last)",
      "Cell \u001b[0;32mIn[10], line 1\u001b[0m\n\u001b[0;32m----> 1\u001b[0m \u001b[39mawait\u001b[39;00m tdmclient\u001b[39m.\u001b[39mnotebook\u001b[39m.\u001b[39mstart()\n",
      "File \u001b[0;32m~/Documents/EPFL/Mobile_Robotics_EXO/lib/python3.11/site-packages/tdmclient/notebook/private.py:112\u001b[0m, in \u001b[0;36mstart\u001b[0;34m(zeroconf, zeroconf_all, tdm_ws, tdm_addr, tdm_port, password, debug, **kwargs)\u001b[0m\n\u001b[1;32m    107\u001b[0m client \u001b[39m=\u001b[39m ClientAsync(zeroconf\u001b[39m=\u001b[39mzeroconf, zeroconf_all\u001b[39m=\u001b[39mzeroconf_all,\n\u001b[1;32m    108\u001b[0m                      tdm_addr\u001b[39m=\u001b[39mtdm_addr, tdm_port\u001b[39m=\u001b[39mtdm_port, tdm_ws\u001b[39m=\u001b[39mtdm_ws,\n\u001b[1;32m    109\u001b[0m                      password\u001b[39m=\u001b[39mpassword,\n\u001b[1;32m    110\u001b[0m                      debug\u001b[39m=\u001b[39mdebug)\n\u001b[1;32m    111\u001b[0m node \u001b[39m=\u001b[39m \u001b[39mawait\u001b[39;00m client\u001b[39m.\u001b[39mwait_for_node(\u001b[39m*\u001b[39m\u001b[39m*\u001b[39mkwargs)\n\u001b[0;32m--> 112\u001b[0m \u001b[39mawait\u001b[39;00m node\u001b[39m.\u001b[39mlock()\n\u001b[1;32m    114\u001b[0m \u001b[39mglobal\u001b[39;00m _interactive_console\n\u001b[1;32m    115\u001b[0m _interactive_console \u001b[39m=\u001b[39m TDMConsole(local_var\u001b[39m=\u001b[39mget_ipython()\u001b[39m.\u001b[39muser_ns)\n",
      "File \u001b[0;32m~/Documents/EPFL/Mobile_Robotics_EXO/lib/python3.11/site-packages/tdmclient/clientasyncnode.py:61\u001b[0m, in \u001b[0;36mClientAsyncNode.lock\u001b[0;34m(self)\u001b[0m\n\u001b[1;32m     59\u001b[0m result \u001b[39m=\u001b[39m \u001b[39myield from\u001b[39;00m \u001b[39mself\u001b[39m\u001b[39m.\u001b[39mlock_node()\n\u001b[1;32m     60\u001b[0m \u001b[39mif\u001b[39;00m result \u001b[39mis\u001b[39;00m \u001b[39mnot\u001b[39;00m \u001b[39mNone\u001b[39;00m:\n\u001b[0;32m---> 61\u001b[0m     \u001b[39mraise\u001b[39;00m NodeLockError(\u001b[39mself\u001b[39m\u001b[39m.\u001b[39mstatus)\n\u001b[1;32m     62\u001b[0m \u001b[39mreturn\u001b[39;00m \u001b[39mself\u001b[39m\n",
      "\u001b[0;31mNodeLockError\u001b[0m: Node lock error (current status: busy)"
     ]
    }
   ],
   "source": [
    "await tdmclient.notebook.start()"
   ]
  },
  {
   "cell_type": "code",
   "execution_count": 11,
   "metadata": {},
   "outputs": [],
   "source": [
    "@tdmclient.notebook.sync_var\n",
    "def thymio_speed(speed_left,speed_right):\n",
    "    global speed_left_global\n",
    "    global speed_right_global\n",
    "    speed_right_global = speed_right\n",
    "    speed_left_global = speed_left\n",
    "\n",
    "@tdmclient.notebook.sync_var\n",
    "def thymio_state(has_global_path):\n",
    "    global state_global\n",
    "    thymio_state = \"Local\"\n",
    "    if state_global == 1:\n",
    "        thymio_state = \"Avoidance\"\n",
    "        has_global_path = False\n",
    "    return thymio_state, has_global_path\n",
    "\n",
    "def thymio_turn(angle_diff):\n",
    "    print(\"Turning \", angle_diff, \" radians\")\n",
    "    if abs(angle_diff) > 10:\n",
    "        if angle_diff > 0:\n",
    "            thymio_speed(-50,50)\n",
    "            time.sleep(0.05*angle_diff)\n",
    "            thymio_speed(0,0)\n",
    "            time.sleep(0.1)\n",
    "        else:\n",
    "            thymio_speed(50,-50)\n",
    "            time.sleep(0.05*abs(angle_diff))\n",
    "            thymio_speed(0,0)\n",
    "            time.sleep(0.1)\n",
    "        return angle_diff*math.pi/180 # return in radians\n",
    "    return 0\n",
    "\n",
    "@tdmclient.notebook.sync_var\n",
    "def print_thymio_speed():\n",
    "    global motor_left_speed, motor_right_speed\n",
    "    mls = motor_left_speed\n",
    "    mrs = motor_right_speed\n",
    "    print(\"Left motor speed: \", mls)\n",
    "    print(\"Right motor speed: \", mrs)"
   ]
  },
  {
   "cell_type": "code",
   "execution_count": 12,
   "metadata": {},
   "outputs": [],
   "source": [
    "thymio_speed(0,0)"
   ]
  },
  {
   "cell_type": "code",
   "execution_count": 6,
   "metadata": {},
   "outputs": [
    {
     "name": "stdout",
     "output_type": "stream",
     "text": [
      "Left motor speed:  0\n",
      "Right motor speed:  0\n"
     ]
    }
   ],
   "source": [
    "print_thymio_speed()"
   ]
  },
  {
   "cell_type": "code",
   "execution_count": 13,
   "metadata": {},
   "outputs": [],
   "source": [
    "%%run_python\n",
    "speed_left_global = 0\n",
    "speed_right_global = 0\n",
    "obstSpeedGain = [6, 4, -2, -6, -8]\n",
    "state_global = 0\n",
    "DELTA = 1\n",
    "timer_period[0] = 10  # 10ms sampling time\n",
    "\n",
    "@onevent \n",
    "def timer0():\n",
    "    global prox_ground_delta, prox_horizontal, speed0, speedGain,obstSpeedGain, motor_left_target, motor_right_target\n",
    "    global speed_left_global, speed_right_global, state_global, motor_left_speed, motor_right_speed\n",
    "    spLeft = speed_left_global\n",
    "    spRight = speed_right_global\n",
    "    \n",
    "    # adjustment for obstacles (\"gradient\" due to obstacles)\n",
    "    for i in range(5):\n",
    "        spLeft += prox_horizontal[i] * obstSpeedGain[i] // 100\n",
    "        spRight += prox_horizontal[i] * obstSpeedGain[4 - i] // 100\n",
    "    # motor control\n",
    "    motor_left_target = spLeft\n",
    "    motor_right_target = spRight\n",
    "\n",
    "    if spLeft - spRight < DELTA and spRight - spLeft < DELTA:\n",
    "        state_global = 0\n",
    "    else:\n",
    "        state_global = 1\n",
    "\n"
   ]
  },
  {
   "cell_type": "code",
   "execution_count": 8,
   "metadata": {},
   "outputs": [],
   "source": [
    "def nav_thread():\n",
    "    global robot,goal, object_corners, angle_robot,path\n",
    "    state = 'Local'\n",
    "    has_gobal_path = True\n",
    "    robot = None\n",
    "    goal = None\n",
    "    angle_robot = 0\n",
    "    robot_size = 23\n",
    "    run = True\n",
    "    counter = 0\n",
    "    path = []\n",
    "    print('nav_thread')\n",
    "    while run:\n",
    "        state,has_gobal_path = thymio_state(has_gobal_path)\n",
    "        if state == \"Local\":\n",
    "            if not has_gobal_path:\n",
    "                # print('global')\n",
    "                if robot is not None and goal != []:\n",
    "                    print('robot')\n",
    "                    RandG = global_nav.create_RandG_dict(robot, goal)\n",
    "                    object_corners = global_nav.create_dictionnary(object_corners)\n",
    "                    print(\"R+G\", RandG)\n",
    "                    print(\"object\", object_corners)\n",
    "                    expended_corners = global_nav.grow_obstacles(object_corners, robot_size)\n",
    "                    points_name2coord = global_nav.name2coord(expended_corners, RandG)\n",
    "                    adjacent_list = global_nav.generate_adjacency_list(expended_corners, RandG)\n",
    "                    distances = global_nav.calculate_distances(adjacent_list, points_name2coord)\n",
    "                    shortest_path = global_nav.find_path(adjacent_list, points_name2coord)\n",
    "                    for name in shortest_path:\n",
    "                        path.append(points_name2coord[name])\n",
    "                    has_gobal_path = True\n",
    "                    counter = 0\n",
    "                    if path != []:\n",
    "                        x_pos = path[0][0]\n",
    "                        y_pos = path[0][1]\n",
    "                        theta = angle_robot\n",
    "                        initial_state = np.array([x_pos, y_pos, 0.0, 0.0, theta, 0])\n",
    "                        initial_covariance = np.diag([1.0, 1.0, 1.0, 1.0, 1.0, 1.0])  # Initial covariance matrix\n",
    "                        process_noise = np.diag([0.03, 0.03, 0.01, 0.01, 0.02, 0.01])  # Process noise covariance matrix\n",
    "                        measurement_noise = np.array([0.1, 0.1])  # Measurement noise variance\n",
    "\n",
    "                        # Initialize Kalman filter\n",
    "                        local_state = initial_state\n",
    "                        covariance = initial_covariance   \n",
    "                        time_prev = time.time()\n",
    "                        new_left_speed = 0\n",
    "                        new_right_speed = 0\n",
    "                        cor = 2 #correction factor for the target coordinates (1cm)\n",
    "                        \n",
    "        # for local state\n",
    "        if path != []:\n",
    "            print(path)\n",
    "            \n",
    "            coordinate = path[counter+1]\n",
    "\n",
    "            if local_nav.check_target(local_state, coordinate, cor) == True:\n",
    "                cam_working = robot is not None \n",
    "                if cam_working:\n",
    "                    theta = angle_robot\n",
    "                else:\n",
    "                    theta = local_state[4]\n",
    "\n",
    "                left_speed = new_left_speed\n",
    "                right_speed = new_right_speed\n",
    "                input_val = np.array([local_nav.convert_speed(left_speed), local_nav.convert_speed(right_speed)])\n",
    "\n",
    "                Ts = time.time() - time_prev\n",
    "                time_prev = time.time()\n",
    "\n",
    "                local_state, covariance = local_nav.predict(local_state, input_val, covariance, Ts, theta, process_noise)              \n",
    "                local_state, covariance = local_nav.measure(local_state, covariance, cam_working, measurement_noise, np.array(robot))               \n",
    "                \n",
    "                if (local_state[0], local_state[1]) == path[0]:\n",
    "                    local_state, covariance = local_nav.predict(local_state, input_val, covariance, Ts, theta, process_noise)              \n",
    "                    local_state, covariance = local_nav.measure(local_state, covariance, cam_working, measurement_noise, np.array(robot))                \n",
    "\n",
    "                print(\"local_state:\", local_state)\n",
    "\n",
    "                if local_nav.check_target(local_state, coordinate, cor) == True: # when the target is reached, it doesn't need to turn anymore since that would lead to the robot spinning\n",
    "                    print('goal not reached')\n",
    "                    print(theta)\n",
    "                    #angle_diff = local_nav.turn_to_target((local_state[0],local_state[1]), coordinate, theta)\n",
    "                    #thymio_turn(angle_diff)\n",
    "                    #theta = theta + angle_diff\n",
    "                    \n",
    "                    \n",
    "                    new_left_speed, new_right_speed = local_nav.go_to_target((local_state[0],local_state[1]), coordinate, theta)\n",
    "                    thymio_speed(new_left_speed, new_right_speed)\n",
    "\n",
    "                else:\n",
    "                    print(\"goal reached\")\n",
    "                    thymio_speed(0, 0)\n",
    "\n",
    "            else:\n",
    "                counter += 1\n",
    "                if counter == len(path)-1:\n",
    "                    run = False\n",
    "                    thymio_speed(0,0)\n",
    "                    break\n"
   ]
  },
  {
   "cell_type": "code",
   "execution_count": 9,
   "metadata": {},
   "outputs": [],
   "source": [
    "nav_thread = threading.Thread(target=nav_thread)"
   ]
  },
  {
   "cell_type": "markdown",
   "metadata": {},
   "source": [
    "***Camera Thread***"
   ]
  },
  {
   "cell_type": "code",
   "execution_count": 10,
   "metadata": {},
   "outputs": [],
   "source": [
    "import traceback\n",
    "def camera_thread():\n",
    "    global robot, goal, object_corners, angle_robot, cov_noise ,height, path       \n",
    "\n",
    "    try:\n",
    "        camera_index = 0\n",
    "        # If you are to use the cam object, make sure it is defined and initialized\n",
    "        # data = cam.capture_data(camera_index)\n",
    "        # cov_noise = cam.calculate_covariance_matrix(data)\n",
    "        cap = cv2.VideoCapture(camera_index)\n",
    "        \n",
    "        if not cap.isOpened():\n",
    "            print(\"Error opening video stream or file\")\n",
    "            return\n",
    "\n",
    "        mode = 'all'\n",
    "        color_type = 'RGB'\n",
    "\n",
    "        # Define thresholds initially\n",
    "        threshold  = [cam.COLOR_THRESHOLD,cam.SATURATION_THRESHOLD,cam.BRIGHTNESS_THRESHOLD]\n",
    "\n",
    "        cv2.namedWindow(\"Camera Vision\", cv2.WINDOW_NORMAL)\n",
    "\n",
    "        # Create Trackbars\n",
    "        cv2.createTrackbar(\"Color Threshold\", \"Camera Vision\", threshold[0], 200,\n",
    "                        lambda x: utils.on_trackbar(x, threshold, 0))\n",
    "        cv2.createTrackbar(\"Saturation Threshold\", \"Camera Vision\", threshold[1], 100,\n",
    "                        lambda x: utils.on_trackbar(x, threshold, 1))\n",
    "        cv2.createTrackbar(\"Brightness Threshold\", \"Camera Vision\", threshold[2], 200,\n",
    "                        lambda x: utils.on_trackbar(x, threshold, 2))\n",
    "        height = 100\n",
    "        width =75\n",
    "        origin = (0,0)\n",
    "        path = []\n",
    "\n",
    "        while True:\n",
    "            ret, frame = cap.read()\n",
    "            if not ret:\n",
    "                break\n",
    "\n",
    "            frame = cam.zoom_frame(frame,zoom_factor=1)\n",
    "            #print(\"Camera Path: \", path)\n",
    "            # Get updated threshold values from the trackbars\n",
    "            threshold_color = cv2.getTrackbarPos(\"Color Threshold\", \"Camera Vision\")\n",
    "            threshold_saturation = cv2.getTrackbarPos(\"Saturation Threshold\", \"Camera Vision\")\n",
    "            threshold_brightness = cv2.getTrackbarPos(\"Brightness Threshold\", \"Camera Vision\")\n",
    "\n",
    "            # Camera vision\n",
    "            frame, robot, angle_robot, goal, object_corners, map_corners, height,origin = cam.detection(\n",
    "                frame,\n",
    "                mode,\n",
    "                color_type,\n",
    "                threshold[0],  # Color threshold\n",
    "                threshold[1],  # Saturation threshold\n",
    "                threshold[2],  # Brightness threshold\n",
    "                width,\n",
    "                height,\n",
    "                origin\n",
    "            )\n",
    "            cv2.imshow(\"Camera Vision\", frame)\n",
    "\n",
    "\n",
    "            key = cv2.waitKey(25) & 0xFF\n",
    "            if key == 27:  # ESC key to exit\n",
    "                break\n",
    "            elif key == ord('1'):  # '1' key to switch to blue mode\n",
    "                mode = 'blue'\n",
    "            elif key == ord('2'):  # '2' key to switch to green mode\n",
    "                mode = 'green'\n",
    "            elif key == ord('3'):  # '3' key to switch to black mode\n",
    "                mode = 'black'\n",
    "            elif key == ord('4'):  # '4' key to switch to black mode\n",
    "                mode = 'red'\n",
    "            elif key == ord('5'):  # '5' key to switch to RGB mode\n",
    "                color_type = 'RGB'\n",
    "            elif key == ord('6'):  # '6' key to switch to BGR mode\n",
    "                color_type = 'BGR'\n",
    "            elif key == ord('7'):\n",
    "                mode = 'all'\n",
    "\n",
    "            time.sleep(0.01)\n",
    "\n",
    "    except Exception as e:\n",
    "        print(f\"An error occurred: {e}\")\n",
    "        traceback.print_exc()\n",
    "    finally:\n",
    "        cap.release()\n",
    "        cv2.destroyAllWindows()\n",
    "        print(\"Done displaying the video\")\n"
   ]
  },
  {
   "cell_type": "code",
   "execution_count": 11,
   "metadata": {},
   "outputs": [],
   "source": [
    "camera_thread = threading.Thread(target=camera_thread)"
   ]
  },
  {
   "cell_type": "code",
   "execution_count": 12,
   "metadata": {},
   "outputs": [],
   "source": [
    "camera_thread.start()"
   ]
  },
  {
   "cell_type": "code",
   "execution_count": 13,
   "metadata": {},
   "outputs": [
    {
     "name": "stdout",
     "output_type": "stream",
     "text": [
      "nav_thread\n"
     ]
    },
    {
     "name": "stdout",
     "output_type": "stream",
     "text": [
      "robot\n",
      "R+G {'robot': (46.97385335705944, 82.29931703547842), 'goal': (40.20618556701031, 17.938144329896907)}\n",
      "object {'object_1': [(19.175257731958762, 14.845360824742267), (8.041237113402062, 14.22680412371134), (7.422680412371133, 25.15463917525773), (18.556701030927833, 25.773195876288657)], 'object_2': [(23.711340206185564, 71.54639175257732), (5.979381443298969, 71.54639175257732), (5.979381443298969, 89.48453608247422), (23.711340206185564, 89.48453608247422)], 'object_3': [(30.92783505154639, 119.17525773195875), (21.237113402061855, 108.65979381443299), (15.051546391752577, 114.43298969072164), (24.74226804123711, 124.74226804123711)], 'object_4': [(52.16494845360825, 38.350515463917525), (35.46391752577319, 38.350515463917525), (35.46391752577319, 51.95876288659794), (52.16494845360825, 51.95876288659794)], 'object_5': [(65.15463917525773, 69.27835051546391), (54.02061855670103, 69.27835051546391), (54.02061855670103, 76.90721649484536), (65.15463917525773, 76.90721649484536)], 'object_6': [(67.01030927835052, 16.288659793814432), (54.845360824742265, 15.051546391752577), (54.02061855670103, 22.88659793814433), (66.18556701030927, 24.123711340206185)]}\n",
      "[(46.97385335705944, 82.29931703547842), (69.9953531205059, 66.48724076332935), (69.9953531205059, 23.822037587186102), (40.20618556701031, 17.938144329896907)]\n",
      "local_state: [46.97385336 82.29931704  0.          0.         -1.78446526  0.        ]\n",
      "goal not reached\n",
      "-1.7844652616016161\n",
      "Turning  67.75950930624597  radians\n",
      "-23 224\n",
      "[(46.97385335705944, 82.29931703547842), (69.9953531205059, 66.48724076332935), (69.9953531205059, 23.822037587186102), (40.20618556701031, 17.938144329896907)]\n",
      "local_state: [46.2810555  79.10642175 -0.69279786 -3.19289528 -1.08548734  0.69897792]\n",
      "goal not reached\n",
      "-1.7844652616016161\n",
      "Turning  74.22337283750298  radians\n",
      "-20 221\n",
      "[(46.97385335705944, 82.29931703547842), (69.9953531205059, 66.48724076332935), (69.9953531205059, 23.822037587186102), (40.20618556701031, 17.938144329896907)]\n",
      "local_state: [45.58825764 75.91352647 -3.21306715 -0.59224036 73.1378855   0.6819987 ]\n",
      "goal not reached\n",
      "72.43890757590137\n",
      "Turning  -4171.560779670113  radians\n"
     ]
    }
   ],
   "source": [
    "nav_thread.start()"
   ]
  },
  {
   "cell_type": "code",
   "execution_count": null,
   "metadata": {},
   "outputs": [],
   "source": [
    "camera_thread.join()"
   ]
  },
  {
   "cell_type": "code",
   "execution_count": null,
   "metadata": {},
   "outputs": [],
   "source": [
    "nav_thread.join()"
   ]
  },
  {
   "cell_type": "code",
   "execution_count": 3,
   "metadata": {},
   "outputs": [
    {
     "name": "stdout",
     "output_type": "stream",
     "text": [
      "Done displaying the video\n"
     ]
    }
   ],
   "source": []
  },
  {
   "cell_type": "code",
   "execution_count": null,
   "metadata": {},
   "outputs": [],
   "source": []
  },
  {
   "cell_type": "code",
   "execution_count": null,
   "metadata": {},
   "outputs": [],
   "source": []
  }
 ],
 "metadata": {
  "kernelspec": {
   "display_name": "Python 3 (ipykernel)",
   "language": "python",
   "name": "python3"
  },
  "language_info": {
   "codemirror_mode": {
    "name": "ipython",
    "version": 3
   },
   "file_extension": ".py",
   "mimetype": "text/x-python",
   "name": "python",
   "nbconvert_exporter": "python",
   "pygments_lexer": "ipython3",
   "version": "3.11.5"
  },
  "orig_nbformat": 4
 },
 "nbformat": 4,
 "nbformat_minor": 2
}
