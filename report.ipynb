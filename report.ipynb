{
 "cells": [
  {
   "cell_type": "code",
   "execution_count": 14,
   "metadata": {},
   "outputs": [],
   "source": [
    "import numpy as np\n",
    "import cv2\n",
    "import matplotlib.pyplot as plt\n",
    "import math\n",
    "import time\n",
    "import tdmclient\n",
    "import tdmclient.notebook\n",
    "import threading\n",
    "\n",
    "import camera as cam\n",
    "import vision_utils as utils\n",
    "import Global_tomerge as global_nav\n",
    "import local_nav as local_nav"
   ]
  },
  {
   "cell_type": "code",
   "execution_count": 15,
   "metadata": {},
   "outputs": [],
   "source": [
    "global robot_and_goal, object_corners\n",
    "object_corners ={}\n",
    "robot_and_goal = {}\n",
    "\n",
    "object_corners = {\n",
    "    'Quadrilateral_1': [(53, 107), (107, 107), (107, 53), (53, 53)],\n",
    "    'Quadrilateral_2': [(120, 200), (200, 280), (280, 200), (200, 120)],\n",
    "    'Quadrilateral_3': [(243, 87), (297, 87), (297, 33), (243, 33)]\n",
    "}\n",
    "\n",
    "robot_and_goal = {\n",
    "\"robot\" : (50,15),\n",
    "\"goal\" : (255, 250)\n",
    "}\n"
   ]
  },
  {
   "cell_type": "markdown",
   "metadata": {},
   "source": [
    "**Navigation Thread**"
   ]
  },
  {
   "cell_type": "code",
   "execution_count": 16,
   "metadata": {},
   "outputs": [
    {
     "ename": "NodeLockError",
     "evalue": "Node lock error (current status: busy)",
     "output_type": "error",
     "traceback": [
      "\u001b[0;31m---------------------------------------------------------------------------\u001b[0m",
      "\u001b[0;31mNodeLockError\u001b[0m                             Traceback (most recent call last)",
      "Cell \u001b[0;32mIn[16], line 1\u001b[0m\n\u001b[0;32m----> 1\u001b[0m \u001b[39mawait\u001b[39;00m tdmclient\u001b[39m.\u001b[39mnotebook\u001b[39m.\u001b[39mstart()\n",
      "File \u001b[0;32m~/Documents/EPFL/Mobile_Robotics_EXO/lib/python3.11/site-packages/tdmclient/notebook/private.py:112\u001b[0m, in \u001b[0;36mstart\u001b[0;34m(zeroconf, zeroconf_all, tdm_ws, tdm_addr, tdm_port, password, debug, **kwargs)\u001b[0m\n\u001b[1;32m    107\u001b[0m client \u001b[39m=\u001b[39m ClientAsync(zeroconf\u001b[39m=\u001b[39mzeroconf, zeroconf_all\u001b[39m=\u001b[39mzeroconf_all,\n\u001b[1;32m    108\u001b[0m                      tdm_addr\u001b[39m=\u001b[39mtdm_addr, tdm_port\u001b[39m=\u001b[39mtdm_port, tdm_ws\u001b[39m=\u001b[39mtdm_ws,\n\u001b[1;32m    109\u001b[0m                      password\u001b[39m=\u001b[39mpassword,\n\u001b[1;32m    110\u001b[0m                      debug\u001b[39m=\u001b[39mdebug)\n\u001b[1;32m    111\u001b[0m node \u001b[39m=\u001b[39m \u001b[39mawait\u001b[39;00m client\u001b[39m.\u001b[39mwait_for_node(\u001b[39m*\u001b[39m\u001b[39m*\u001b[39mkwargs)\n\u001b[0;32m--> 112\u001b[0m \u001b[39mawait\u001b[39;00m node\u001b[39m.\u001b[39mlock()\n\u001b[1;32m    114\u001b[0m \u001b[39mglobal\u001b[39;00m _interactive_console\n\u001b[1;32m    115\u001b[0m _interactive_console \u001b[39m=\u001b[39m TDMConsole(local_var\u001b[39m=\u001b[39mget_ipython()\u001b[39m.\u001b[39muser_ns)\n",
      "File \u001b[0;32m~/Documents/EPFL/Mobile_Robotics_EXO/lib/python3.11/site-packages/tdmclient/clientasyncnode.py:61\u001b[0m, in \u001b[0;36mClientAsyncNode.lock\u001b[0;34m(self)\u001b[0m\n\u001b[1;32m     59\u001b[0m result \u001b[39m=\u001b[39m \u001b[39myield from\u001b[39;00m \u001b[39mself\u001b[39m\u001b[39m.\u001b[39mlock_node()\n\u001b[1;32m     60\u001b[0m \u001b[39mif\u001b[39;00m result \u001b[39mis\u001b[39;00m \u001b[39mnot\u001b[39;00m \u001b[39mNone\u001b[39;00m:\n\u001b[0;32m---> 61\u001b[0m     \u001b[39mraise\u001b[39;00m NodeLockError(\u001b[39mself\u001b[39m\u001b[39m.\u001b[39mstatus)\n\u001b[1;32m     62\u001b[0m \u001b[39mreturn\u001b[39;00m \u001b[39mself\u001b[39m\n",
      "\u001b[0;31mNodeLockError\u001b[0m: Node lock error (current status: busy)"
     ]
    }
   ],
   "source": [
    "await tdmclient.notebook.start()"
   ]
  },
  {
   "cell_type": "code",
   "execution_count": 17,
   "metadata": {},
   "outputs": [],
   "source": [
    "@tdmclient.notebook.sync_var\n",
    "def thymio_speed(speed_left,speed_right):\n",
    "    global speed_left_global\n",
    "    global speed_right_global\n",
    "    speed_right_global = speed_right\n",
    "    speed_left_global = speed_left\n",
    "\n",
    "@tdmclient.notebook.sync_var\n",
    "def thymio_state(has_global_path):\n",
    "    global state_global\n",
    "    thymio_state = \"Local\"\n",
    "    if state_global == 1:\n",
    "        thymio_state = \"Avoidance\"\n",
    "        has_global_path = False\n",
    "    return thymio_state, has_global_path\n",
    "\n",
    "def thymio_turn(angle_diff):\n",
    "    if angle_diff > 0:\n",
    "            thymio_speed(-50,50)\n",
    "            time.sleep(0.05*angle_diff)\n",
    "            thymio_speed(0,0)\n",
    "    else:\n",
    "        thymio_speed(50,-50)\n",
    "        time.sleep(0.05*angle_diff)\n",
    "        thymio_speed(0,0)"
   ]
  },
  {
   "cell_type": "code",
   "execution_count": 18,
   "metadata": {},
   "outputs": [],
   "source": [
    "%%run_python\n",
    "speed_left_global = 0\n",
    "speed_right_global = 0\n",
    "speedGain = 0    \n",
    "obstSpeedGain = [6, 4, -2, -6, -8]\n",
    "state_global = 0\n",
    "DELTA = 1\n",
    "timer_period[0] = 10  # 10ms sampling time\n",
    "\n",
    "@onevent \n",
    "def timer0():\n",
    "    global prox_ground_delta, prox_horizontal, speed0, speedGain,obstSpeedGain, motor_left_target, motor_right_target\n",
    "    global speed_left_global, speed_right_global, state_global\n",
    "    spLeft = speed_left_global - speedGain\n",
    "    spRight = speed_right_global + speedGain\n",
    "    \n",
    "    # adjustment for obstacles (\"gradient\" due to obstacles)\n",
    "    for i in range(5):\n",
    "        spLeft += prox_horizontal[i] * obstSpeedGain[i] // 100\n",
    "        spRight += prox_horizontal[i] * obstSpeedGain[4 - i] // 100\n",
    "    # motor control\n",
    "    motor_left_target = spLeft\n",
    "    motor_right_target = spRight\n",
    "\n",
    "    if spLeft - spRight < DELTA and spRight - spLeft < DELTA:\n",
    "        state_global = 0\n",
    "    else:\n",
    "        state_global = 1\n",
    "\n"
   ]
  },
  {
   "cell_type": "code",
   "execution_count": 22,
   "metadata": {},
   "outputs": [],
   "source": [
    "def nav_thread(path=[]):\n",
    "    global robot_and_goal, object_corners\n",
    "    state = 'Local'\n",
    "    has_gobal_path = False\n",
    "    robot_size = 23\n",
    "    run = True\n",
    "    counter = 0\n",
    "    print('nav_thread')\n",
    "    while run:\n",
    "        state,has_gobal_path = thymio_state(has_gobal_path)\n",
    "        if state == \"Local\":\n",
    "            if not has_gobal_path:\n",
    "                print('global')\n",
    "                if robot_and_goal.get('robot') is not None:\n",
    "                    print('robot')\n",
    "                    expended_corners = global_nav.grow_obstacles(object_corners, robot_size)\n",
    "                    points_name2coord = global_nav.name2coord(expended_corners, robot_and_goal)\n",
    "                    adjacent_list = global_nav.generate_adjacency_list(expended_corners, robot_and_goal)\n",
    "                    distances = global_nav.calculate_distances(adjacent_list, points_name2coord)\n",
    "                    shortest_path = global_nav.find_path(adjacent_list, points_name2coord)\n",
    "                    for name in shortest_path:\n",
    "                        path.append(points_name2coord[name])\n",
    "                    has_gobal_path = True\n",
    "                    counter = 0\n",
    "            \n",
    "        # for local state\n",
    "        x_pos = path[0][0]\n",
    "        y_pos = path[0][1]\n",
    "        theta = 0 # from camera\n",
    "        initial_state = np.array([x_pos, y_pos, 0.0, 0.0, theta, 0])\n",
    "        initial_covariance = np.diag([1.0, 1.0, 1.0, 1.0, 1.0, 1.0])  # Initial covariance matrix\n",
    "        process_noise = np.diag([0.03, 0.03, 0.01, 0.01, 0.02, 0.01])  # Process noise covariance matrix\n",
    "        measurement_noise = np.array([0.1, 0.1])  # Measurement noise variance\n",
    "\n",
    "        # Initialize Kalman filter\n",
    "        local_state = initial_state\n",
    "        covariance = initial_covariance\n",
    "        Ts = 0.5    \n",
    "        motor_left_target = 0\n",
    "        motor_right_target = 0\n",
    "        cor = 2 #correction factor for the target coordinates (1cm)\n",
    "        coordinate = path[counter+1]\n",
    "        #while tup(state[0],state[1]) != coordinate:\n",
    "        if (local_state[0]>(coordinate[0]+cor) or local_state[0]<(coordinate[0]-cor)) and (local_state[1]>(coordinate[1]+cor) or local_state[0]<(coordinate[1]-cor)):\n",
    "            #cam_measurement = get_cam_measurement()\n",
    "            cam_measurement = False\n",
    "            if cam_measurement: # camera is not hidden\n",
    "                theta = 0\n",
    "            else:\n",
    "                theta = local_state[4]\n",
    "            input_val = np.array([motor_left_target, motor_right_target])               \n",
    "            local_state, covariance = local_nav.predict(local_state, input_val, covariance, Ts, theta, process_noise)              \n",
    "            local_state, covariance = local_nav.measure(local_state, covariance, cam_measurement)               \n",
    "            angle_diff = local_nav.turn_to_target(local_state, coordinate, local_state[4])\n",
    "            thymio_turn(angle_diff)\n",
    "            motor_left_target, motor_right_target = local_nav.go_to_target(local_state, coordinate, local_state[4])\n",
    "            thymio_speed(motor_left_target, motor_right_target)\n",
    "        else:\n",
    "            counter += 1\n",
    "            if counter == len(path)-1:\n",
    "                run = False\n",
    "                thymio_speed(0,0)\n",
    "                break\n"
   ]
  },
  {
   "cell_type": "code",
   "execution_count": 23,
   "metadata": {},
   "outputs": [],
   "source": [
    "nav_thread = threading.Thread(target=nav_thread)"
   ]
  },
  {
   "cell_type": "code",
   "execution_count": null,
   "metadata": {},
   "outputs": [],
   "source": []
  },
  {
   "cell_type": "markdown",
   "metadata": {},
   "source": [
    "***Camera Thread***"
   ]
  },
  {
   "cell_type": "code",
   "execution_count": null,
   "metadata": {},
   "outputs": [],
   "source": [
    "\n",
    "def camera_thread():\n",
    "    global robot_and_goal, object_corners\n",
    "    try:\n",
    "        cap = cv2.VideoCapture(0)\n",
    "\n",
    "        if not cap.isOpened():\n",
    "            print(\"Error opening video stream or file\")\n",
    "            return\n",
    "        mode = 'all'\n",
    "        color_type = 'RGB'\n",
    "\n",
    "        thresold  = [cam.COLOR_THREASHOLD,cam.SATURATION_THRESHOLD,cam.BRIGHTNESS_THRESHOLD]\n",
    "\n",
    "        cv2.namedWindow(\"Camera Vision\", cv2.WINDOW_NORMAL)\n",
    "        cv2.createTrackbar(\"Color Threshold\", \"Camera Vision\", thresold[0], 200, lambda x: utils.on_trackbar(x,thresold))\n",
    "        cv2.createTrackbar(\"Saturation Threshold\", \"Camera Vision\", thresold[1], 200, lambda x: utils.on_trackbar(x,thresold))\n",
    "        cv2.createTrackbar(\"Brightness Threshold\", \"Camera Vision\", thresold[2], 200, lambda x: utils.on_trackbar(x,thresold))\n",
    "        while True:\n",
    "            ret, frame = cap.read()\n",
    "            if not ret:\n",
    "                break\n",
    "\n",
    "            frame = cam.zoom_frame(frame,zoom_factor=2)\n",
    "            frame, end, start, obstacles = cam.obstacle_detection(frame,mode,color_type,thresold[0],thresold[1],thresold[2])\n",
    "            print(obstacles)\n",
    "            \n",
    "            robot_and_goal[\"start\"] = start\n",
    "            robot_and_goal[\"goal\"] = end\n",
    "\n",
    "            cv2.imshow(\"Camera Vision\", frame)\n",
    "\n",
    "            key = cv2.waitKey(25) & 0xFF\n",
    "            if key == 27:  # ESC key to exit\n",
    "                break\n",
    "            elif key == ord('1'):  # '1' key to switch to blue mode\n",
    "                mode = 'blue'\n",
    "            elif key == ord('2'):  # '2' key to switch to green mode\n",
    "                mode = 'green'\n",
    "            elif key == ord('3'):  # '3' key to switch to black mode\n",
    "                mode = 'black'\n",
    "            elif key == ord('4'):  # '4' key to switch to black mode\n",
    "                mode = 'all'\n",
    "            elif key == ord('5'):  # '5' key to switch to RGB mode\n",
    "                color_type = 'RGB'\n",
    "            elif key == ord('6'):  # '6' key to switch to BGR mode\n",
    "                color_type = 'BGR'\n",
    "\n",
    "            time.sleep(0.01)\n",
    "\n",
    "    except Exception as e:\n",
    "        print(f\"An error occurred: {e}\")\n",
    "    finally:\n",
    "        cap.release()\n",
    "        cv2.destroyAllWindows()\n",
    "        print(\"Done displaying the video\")\n"
   ]
  },
  {
   "cell_type": "code",
   "execution_count": null,
   "metadata": {},
   "outputs": [],
   "source": [
    "camera_thread = threading.Thread(target=camera_thread)"
   ]
  },
  {
   "cell_type": "code",
   "execution_count": null,
   "metadata": {},
   "outputs": [],
   "source": [
    "camera_thread.start()"
   ]
  },
  {
   "cell_type": "code",
   "execution_count": 24,
   "metadata": {},
   "outputs": [
    {
     "name": "stdout",
     "output_type": "stream",
     "text": [
      "nav_thread\n",
      "global\n",
      "robot\n"
     ]
    }
   ],
   "source": [
    "nav_thread.start()"
   ]
  },
  {
   "cell_type": "code",
   "execution_count": null,
   "metadata": {},
   "outputs": [],
   "source": [
    "camera_thread.join()"
   ]
  },
  {
   "cell_type": "code",
   "execution_count": 24,
   "metadata": {},
   "outputs": [],
   "source": [
    "nav_thread.join()"
   ]
  },
  {
   "cell_type": "code",
   "execution_count": null,
   "metadata": {},
   "outputs": [],
   "source": []
  }
 ],
 "metadata": {
  "kernelspec": {
   "display_name": "Python 3 (ipykernel)",
   "language": "python",
   "name": "python3"
  },
  "language_info": {
   "codemirror_mode": {
    "name": "ipython",
    "version": 3
   },
   "file_extension": ".py",
   "mimetype": "text/x-python",
   "name": "python",
   "nbconvert_exporter": "python",
   "pygments_lexer": "ipython3",
   "version": "3.11.5"
  },
  "orig_nbformat": 4
 },
 "nbformat": 4,
 "nbformat_minor": 2
}
