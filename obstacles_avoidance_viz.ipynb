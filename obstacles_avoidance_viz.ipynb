{
 "cells": [
  {
   "cell_type": "code",
   "execution_count": 55,
   "metadata": {},
   "outputs": [],
   "source": [
    "import tdmclient\n",
    "import tdmclient.notebook\n",
    "await tdmclient.notebook.start()"
   ]
  },
  {
   "cell_type": "code",
   "execution_count": 67,
   "metadata": {},
   "outputs": [],
   "source": [
    "\n",
    "@tdmclient.notebook.sync_var\n",
    "def thymio_speed(speed_left,speed_right):\n",
    "    global speed_left_global\n",
    "    global speed_right_global\n",
    "    speed_right_global = speed_right\n",
    "    speed_left_global = speed_left\n",
    "\n",
    "@tdmclient.notebook.sync_var\n",
    "def thymio_state():\n",
    "    global state\n",
    "    thymio_state = state\n",
    "    return thymio_state\n",
    "\n",
    "\n",
    "@tdmclient.notebook.sync_var\n",
    "def thymio_stop():\n",
    "    global stop\n",
    "    stop = True\n",
    "\n",
    "@tdmclient.notebook.sync_var\n",
    "def thymio_start():\n",
    "    global stop\n",
    "    stop = False\n"
   ]
  },
  {
   "cell_type": "code",
   "execution_count": 68,
   "metadata": {},
   "outputs": [],
   "source": [
    "%%run_python\n",
    "stop = False\n",
    "speed_left_global = 100\n",
    "speed_right_global = 100\n",
    "speedGain = 0    \n",
    "obstSpeedGain = [6, 4, -2, -6, -8]\n",
    "\n",
    "\n",
    "timer_period[0] = 10  # 10ms sampling time\n",
    "\n",
    "@onevent \n",
    "def timer0():\n",
    "    global prox_ground_delta, prox_horizontal, speed0, speedGain,obstSpeedGain, motor_left_target, motor_right_target\n",
    "    global speed_left_global, speed_right_global, stop, state\n",
    "    spLeft = speed_left_global - speedGain\n",
    "    spRight = speed_right_global + speedGain\n",
    "    \n",
    "    # adjustment for obstacles (\"gradient\" due to obstacles)\n",
    "    for i in range(5):\n",
    "        spLeft += prox_horizontal[i] * obstSpeedGain[i] // 100\n",
    "        spRight += prox_horizontal[i] * obstSpeedGain[4 - i] // 100\n",
    "    # motor control\n",
    "    motor_left_target = spLeft\n",
    "    motor_right_target = spRight\n",
    "\n",
    "    if stop:\n",
    "        motor_left_target = 0\n",
    "        motor_right_target = 0\n",
    "\n"
   ]
  },
  {
   "cell_type": "code",
   "execution_count": 69,
   "metadata": {},
   "outputs": [],
   "source": [
    "thymio_start()\n",
    "thymio_speed(0,0)"
   ]
  },
  {
   "cell_type": "code",
   "execution_count": 70,
   "metadata": {},
   "outputs": [],
   "source": [
    "thymio_stop()"
   ]
  },
  {
   "cell_type": "code",
   "execution_count": null,
   "metadata": {},
   "outputs": [],
   "source": []
  }
 ],
 "metadata": {
  "kernelspec": {
   "display_name": "Python 3 (ipykernel)",
   "language": "python",
   "name": "python3"
  },
  "language_info": {
   "codemirror_mode": {
    "name": "ipython",
    "version": 3
   },
   "file_extension": ".py",
   "mimetype": "text/x-python",
   "name": "python",
   "nbconvert_exporter": "python",
   "pygments_lexer": "ipython3",
   "version": "3.11.5"
  },
  "orig_nbformat": 4
 },
 "nbformat": 4,
 "nbformat_minor": 2
}
