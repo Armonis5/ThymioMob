{
 "cells": [
  {
   "cell_type": "code",
   "execution_count": 1,
   "metadata": {},
   "outputs": [],
   "source": [
    "import obstacles_avoidance as oa\n",
    "from tqdm import tqdm"
   ]
  },
  {
   "cell_type": "code",
   "execution_count": 2,
   "metadata": {},
   "outputs": [
    {
     "ename": "CancelledError",
     "evalue": "",
     "output_type": "error",
     "traceback": [
      "\u001b[0;31m---------------------------------------------------------------------------\u001b[0m",
      "\u001b[0;31mCancelledError\u001b[0m                            Traceback (most recent call last)",
      "Cell \u001b[0;32mIn[2], line 3\u001b[0m\n\u001b[1;32m      1\u001b[0m \u001b[39mfrom\u001b[39;00m \u001b[39mtdmclient\u001b[39;00m \u001b[39mimport\u001b[39;00m ClientAsync\n\u001b[1;32m      2\u001b[0m client \u001b[39m=\u001b[39m ClientAsync()\n\u001b[0;32m----> 3\u001b[0m node \u001b[39m=\u001b[39m \u001b[39mawait\u001b[39;00m client\u001b[39m.\u001b[39mwait_for_node()\n\u001b[1;32m      4\u001b[0m \u001b[39mawait\u001b[39;00m node\u001b[39m.\u001b[39mlock()\n",
      "File \u001b[0;32m~/Documents/EPFL/Mobile_Robotics_EXO/lib/python3.11/site-packages/tdmclient/clientasync.py:106\u001b[0m, in \u001b[0;36mClientAsync.wait_for_node\u001b[0;34m(self, timeout, **kwargs)\u001b[0m\n\u001b[1;32m    104\u001b[0m     sleep(\u001b[39mself\u001b[39m\u001b[39m.\u001b[39mDEFAULT_SLEEP)\n\u001b[1;32m    105\u001b[0m     time \u001b[39m+\u001b[39m\u001b[39m=\u001b[39m \u001b[39mself\u001b[39m\u001b[39m.\u001b[39mDEFAULT_SLEEP\n\u001b[0;32m--> 106\u001b[0m \u001b[39myield\u001b[39;00m\n",
      "\u001b[0;31mCancelledError\u001b[0m: "
     ]
    }
   ],
   "source": [
    "from tdmclient import ClientAsync\n",
    "client = ClientAsync()\n",
    "node = await client.wait_for_node()\n",
    "await node.lock()"
   ]
  },
  {
   "cell_type": "code",
   "execution_count": 6,
   "metadata": {},
   "outputs": [
    {
     "ename": "TypeError",
     "evalue": "'int' object is not subscriptable",
     "output_type": "error",
     "traceback": [
      "\u001b[0;31m---------------------------------------------------------------------------\u001b[0m",
      "\u001b[0;31mTypeError\u001b[0m                                 Traceback (most recent call last)",
      "Cell \u001b[0;32mIn[6], line 5\u001b[0m\n\u001b[1;32m      3\u001b[0m proximity \u001b[39m=\u001b[39m[]\n\u001b[1;32m      4\u001b[0m node\u001b[39m=\u001b[39m\u001b[39m0\u001b[39m\n\u001b[0;32m----> 5\u001b[0m rt_proxy \u001b[39m=\u001b[39m oa\u001b[39m.\u001b[39mRepeatedTimer(Ts_proxy,oa\u001b[39m.\u001b[39;49mget_proximty(node,proximity))\n\u001b[1;32m      6\u001b[0m \u001b[39m#rt_oa = oa.RepeatedTimer(Ts_oa,oa.avoidance)\u001b[39;00m\n",
      "File \u001b[0;32m~/Documents/EPFL/Mobile_Robotics_Project/ThymioMob/obstacles_avoidance.py:38\u001b[0m, in \u001b[0;36mget_proximty\u001b[0;34m(node, proximity)\u001b[0m\n\u001b[1;32m     35\u001b[0m \u001b[39mdef\u001b[39;00m \u001b[39mget_proximty\u001b[39m(node,proximity):\n\u001b[1;32m     36\u001b[0m     proximity\u001b[39m.\u001b[39mappend(\n\u001b[1;32m     37\u001b[0m         {\n\u001b[0;32m---> 38\u001b[0m             node[\u001b[39m\"\u001b[39;49m\u001b[39mprox.horizontal\u001b[39;49m\u001b[39m\"\u001b[39;49m][\u001b[39m0\u001b[39m],\n\u001b[1;32m     39\u001b[0m             node[\u001b[39m\"\u001b[39m\u001b[39mprox.horizontal\u001b[39m\u001b[39m\"\u001b[39m][\u001b[39m1\u001b[39m],\n\u001b[1;32m     40\u001b[0m             node[\u001b[39m\"\u001b[39m\u001b[39mprox.horizontal\u001b[39m\u001b[39m\"\u001b[39m][\u001b[39m2\u001b[39m],\n\u001b[1;32m     41\u001b[0m             node[\u001b[39m\"\u001b[39m\u001b[39mprox.horizontal\u001b[39m\u001b[39m\"\u001b[39m][\u001b[39m3\u001b[39m],\n\u001b[1;32m     42\u001b[0m             node[\u001b[39m\"\u001b[39m\u001b[39mprox.horizontal\u001b[39m\u001b[39m\"\u001b[39m][\u001b[39m4\u001b[39m],\n\u001b[1;32m     43\u001b[0m             node[\u001b[39m\"\u001b[39m\u001b[39mprox.horizontal\u001b[39m\u001b[39m\"\u001b[39m][\u001b[39m5\u001b[39m],\n\u001b[1;32m     44\u001b[0m             node[\u001b[39m\"\u001b[39m\u001b[39mprox.horizontal\u001b[39m\u001b[39m\"\u001b[39m][\u001b[39m6\u001b[39m],\n\u001b[1;32m     45\u001b[0m         }\n\u001b[1;32m     46\u001b[0m     )\n",
      "\u001b[0;31mTypeError\u001b[0m: 'int' object is not subscriptable"
     ]
    }
   ],
   "source": [
    "Ts_proxy = 0.1\n",
    "Ts_oa = 0.1\n",
    "proximity =[]\n",
    "rt_proxy = oa.RepeatedTimer(Ts_proxy,oa.get_proximty(node,proximity))\n",
    "rt_oa = oa.RepeatedTimer(Ts_oa,oa.avoidance(node,proximity))"
   ]
  },
  {
   "cell_type": "code",
   "execution_count": null,
   "metadata": {},
   "outputs": [],
   "source": []
  }
 ],
 "metadata": {
  "kernelspec": {
   "display_name": "Python 3 (ipykernel)",
   "language": "python",
   "name": "python3"
  },
  "language_info": {
   "codemirror_mode": {
    "name": "ipython",
    "version": 3
   },
   "file_extension": ".py",
   "mimetype": "text/x-python",
   "name": "python",
   "nbconvert_exporter": "python",
   "pygments_lexer": "ipython3",
   "version": "3.11.5"
  },
  "orig_nbformat": 4
 },
 "nbformat": 4,
 "nbformat_minor": 2
}
