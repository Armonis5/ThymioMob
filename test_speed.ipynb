{
 "cells": [
  {
   "cell_type": "code",
   "execution_count": 5,
   "metadata": {},
   "outputs": [],
   "source": [
    "await tdmclient.notebook.start()"
   ]
  },
  {
   "cell_type": "code",
   "execution_count": 4,
   "metadata": {},
   "outputs": [],
   "source": [
    "import numpy as np\n",
    "import tdmclient\n",
    "import tdmclient.notebook\n",
    "import time"
   ]
  },
  {
   "cell_type": "code",
   "execution_count": 6,
   "metadata": {},
   "outputs": [],
   "source": [
    "@tdmclient.notebook.sync_var\n",
    "def print_thymio_speed():\n",
    "    # speeds= values = np.arange(50, 151, 20)\n",
    "    mls = []\n",
    "    mrs = []\n",
    "    global motor_left_speed, motor_right_speed\n",
    "    mls = mls.append(motor_left_speed)\n",
    "    mrs = mrs.append(motor_right_speed)\n",
    "    print(\"Left motor speed: \", mls)\n",
    "    print(\"Right motor speed: \", mrs)"
   ]
  },
  {
   "cell_type": "code",
   "execution_count": 10,
   "metadata": {},
   "outputs": [
    {
     "ename": "TranspilerError",
     "evalue": "\n      global motor_left_target, motor_right_target, \n                                                    ^\ninvalid syntax (line 3)",
     "output_type": "error",
     "traceback": [
      "\u001b[0;31m---------------------------------------------------------------------------\u001b[0m",
      "\u001b[0;31mTranspilerError\u001b[0m                           Traceback (most recent call last)",
      "\u001b[1;32m/Users/elsa_htz/Documents/GitHub/ThymioMob/test_speed.ipynb Cellule 4\u001b[0m line \u001b[0;36m1\n\u001b[0;32m----> <a href='vscode-notebook-cell:/Users/elsa_htz/Documents/GitHub/ThymioMob/test_speed.ipynb#W2sZmlsZQ%3D%3D?line=0'>1</a>\u001b[0m get_ipython()\u001b[39m.\u001b[39mrun_cell_magic(\u001b[39m'\u001b[39m\u001b[39mrun_python\u001b[39m\u001b[39m'\u001b[39m, \u001b[39m'\u001b[39m\u001b[39m'\u001b[39m, \u001b[39m'\u001b[39m\u001b[39m@tdmclient.notebook.sync_var\u001b[39m\u001b[39m\\n\u001b[39;00m\u001b[39mdef testing_speed(motor_left, motor_right):\u001b[39m\u001b[39m\\n\u001b[39;00m\u001b[39m    global motor_left_target, motor_right_target, \u001b[39m\u001b[39m\\n\u001b[39;00m\u001b[39m    motor_left_target= motor_left\u001b[39m\u001b[39m\\n\u001b[39;00m\u001b[39m    motor_right_target= motor_right\u001b[39m\u001b[39m\\n\u001b[39;00m\u001b[39m\\n\u001b[39;00m\u001b[39m'\u001b[39m)\n",
      "File \u001b[0;32m~/anaconda3/lib/python3.11/site-packages/IPython/core/interactiveshell.py:2493\u001b[0m, in \u001b[0;36mInteractiveShell.run_cell_magic\u001b[0;34m(self, magic_name, line, cell)\u001b[0m\n\u001b[1;32m   2491\u001b[0m \u001b[39mwith\u001b[39;00m \u001b[39mself\u001b[39m\u001b[39m.\u001b[39mbuiltin_trap:\n\u001b[1;32m   2492\u001b[0m     args \u001b[39m=\u001b[39m (magic_arg_s, cell)\n\u001b[0;32m-> 2493\u001b[0m     result \u001b[39m=\u001b[39m fn(\u001b[39m*\u001b[39margs, \u001b[39m*\u001b[39m\u001b[39m*\u001b[39mkwargs)\n\u001b[1;32m   2495\u001b[0m \u001b[39m# The code below prevents the output from being displayed\u001b[39;00m\n\u001b[1;32m   2496\u001b[0m \u001b[39m# when using magics with decorator @output_can_be_silenced\u001b[39;00m\n\u001b[1;32m   2497\u001b[0m \u001b[39m# when the last Python token in the expression is a ';'.\u001b[39;00m\n\u001b[1;32m   2498\u001b[0m \u001b[39mif\u001b[39;00m \u001b[39mgetattr\u001b[39m(fn, magic\u001b[39m.\u001b[39mMAGIC_OUTPUT_CAN_BE_SILENCED, \u001b[39mFalse\u001b[39;00m):\n",
      "File \u001b[0;32m~/anaconda3/lib/python3.11/site-packages/tdmclient/notebook/private.py:381\u001b[0m, in \u001b[0;36mrun_python\u001b[0;34m(line, cell)\u001b[0m\n\u001b[1;32m    378\u001b[0m     _interactive_console\u001b[39m.\u001b[39mclear_event_data()\n\u001b[1;32m    380\u001b[0m \u001b[39mtry\u001b[39;00m:\n\u001b[0;32m--> 381\u001b[0m     _interactive_console\u001b[39m.\u001b[39mrun_program(python_preamble \u001b[39m+\u001b[39m cell,\n\u001b[1;32m    382\u001b[0m                                      nodes\u001b[39m=\u001b[39mnodes \u001b[39mif\u001b[39;00m \u001b[39mlen\u001b[39m(nodes) \u001b[39m>\u001b[39m \u001b[39m0\u001b[39m \u001b[39melse\u001b[39;00m \u001b[39mNone\u001b[39;00m,\n\u001b[1;32m    383\u001b[0m                                      language\u001b[39m=\u001b[39m\u001b[39m\"\u001b[39m\u001b[39mpython\u001b[39m\u001b[39m\"\u001b[39m,\n\u001b[1;32m    384\u001b[0m                                      warning_missing_global\u001b[39m=\u001b[39mwarning_missing_global,\n\u001b[1;32m    385\u001b[0m                                      wait\u001b[39m=\u001b[39mwait, import_thymio\u001b[39m=\u001b[39mimport_thymio)\n\u001b[1;32m    386\u001b[0m \u001b[39mexcept\u001b[39;00m \u001b[39mKeyboardInterrupt\u001b[39;00m:\n\u001b[1;32m    387\u001b[0m     \u001b[39m# avoid long exception message with stack trace\u001b[39;00m\n\u001b[1;32m    388\u001b[0m     \u001b[39mprint\u001b[39m(\u001b[39m\"\u001b[39m\u001b[39mInterrupted\u001b[39m\u001b[39m\"\u001b[39m)\n",
      "File \u001b[0;32m~/anaconda3/lib/python3.11/site-packages/tdmclient/repl.py:560\u001b[0m, in \u001b[0;36mTDMConsole.run_program\u001b[0;34m(self, src, nodes, language, warning_missing_global, wait, import_thymio)\u001b[0m\n\u001b[1;32m    557\u001b[0m \u001b[39mwith\u001b[39;00m \u001b[39mself\u001b[39m\u001b[39m.\u001b[39mlock_robots(nodes) \u001b[39mas\u001b[39;00m nodes_l:\n\u001b[1;32m    558\u001b[0m     \u001b[39m# transpile, compile, load, set scratchpad, and run\u001b[39;00m\n\u001b[1;32m    559\u001b[0m     \u001b[39mfor\u001b[39;00m node \u001b[39min\u001b[39;00m nodes_l:\n\u001b[0;32m--> 560\u001b[0m         wait_for_node \u001b[39m=\u001b[39m run_node(node)\n\u001b[1;32m    561\u001b[0m         wait_for_nodes \u001b[39m=\u001b[39m wait_for_nodes \u001b[39mor\u001b[39;00m wait_for_node\n\u001b[1;32m    562\u001b[0m         running_nodes\u001b[39m.\u001b[39madd(node)\n",
      "File \u001b[0;32m~/anaconda3/lib/python3.11/site-packages/tdmclient/repl.py:516\u001b[0m, in \u001b[0;36mTDMConsole.run_program.<locals>.run_node\u001b[0;34m(node)\u001b[0m\n\u001b[1;32m    513\u001b[0m events \u001b[39m=\u001b[39m []\n\u001b[1;32m    514\u001b[0m \u001b[39mif\u001b[39;00m language \u001b[39m==\u001b[39m \u001b[39m\"\u001b[39m\u001b[39mpython\u001b[39m\u001b[39m\"\u001b[39m:\n\u001b[1;32m    515\u001b[0m     \u001b[39m# transpile from Python to Aseba\u001b[39;00m\n\u001b[0;32m--> 516\u001b[0m     transpiler \u001b[39m=\u001b[39m \u001b[39mself\u001b[39m\u001b[39m.\u001b[39mtranspile(src,\n\u001b[1;32m    517\u001b[0m                                 import_thymio\u001b[39m=\u001b[39mimport_thymio,\n\u001b[1;32m    518\u001b[0m                                 warning_missing_global\u001b[39m=\u001b[39mwarning_missing_global)\n\u001b[1;32m    519\u001b[0m     src_aseba \u001b[39m=\u001b[39m transpiler\u001b[39m.\u001b[39mget_output()\n\u001b[1;32m    520\u001b[0m     print_statements[node] \u001b[39m=\u001b[39m transpiler\u001b[39m.\u001b[39mprint_format_strings\n",
      "File \u001b[0;32m~/anaconda3/lib/python3.11/site-packages/tdmclient/repl.py:327\u001b[0m, in \u001b[0;36mTDMConsole.transpile\u001b[0;34m(src, import_thymio, warning_missing_global)\u001b[0m\n\u001b[1;32m    324\u001b[0m             transpiler\u001b[39m.\u001b[39mset_preamble(\u001b[39m\"\"\"\u001b[39m\u001b[39mfrom thymio import *\u001b[39m\n\u001b[1;32m    325\u001b[0m \u001b[39m\"\"\"\u001b[39m)\n\u001b[1;32m    326\u001b[0m         transpiler\u001b[39m.\u001b[39mset_source(src)\n\u001b[0;32m--> 327\u001b[0m         transpiler\u001b[39m.\u001b[39mtranspile()\n\u001b[1;32m    328\u001b[0m         \u001b[39mif\u001b[39;00m warning_missing_global:\n\u001b[1;32m    329\u001b[0m             w \u001b[39m=\u001b[39m missing_global_decl(transpiler)\n",
      "File \u001b[0;32m~/anaconda3/lib/python3.11/site-packages/tdmclient/atranspiler.py:1321\u001b[0m, in \u001b[0;36mATranspiler.transpile\u001b[0;34m(self)\u001b[0m\n\u001b[1;32m   1319\u001b[0m     \u001b[39mself\u001b[39m\u001b[39m.\u001b[39mast \u001b[39m=\u001b[39m ast\u001b[39m.\u001b[39mparse(\u001b[39mself\u001b[39m\u001b[39m.\u001b[39msrc)\n\u001b[1;32m   1320\u001b[0m \u001b[39mexcept\u001b[39;00m \u001b[39mSyntaxError\u001b[39;00m \u001b[39mas\u001b[39;00m error:\n\u001b[0;32m-> 1321\u001b[0m     \u001b[39mraise\u001b[39;00m TranspilerError(error\u001b[39m.\u001b[39margs[\u001b[39m0\u001b[39m], syntax_error\u001b[39m=\u001b[39merror) \u001b[39mfrom\u001b[39;00m \u001b[39mNone\u001b[39;00m\n\u001b[1;32m   1322\u001b[0m top_code \u001b[39m=\u001b[39m \u001b[39mself\u001b[39m\u001b[39m.\u001b[39msplit(\u001b[39mself\u001b[39m\u001b[39m.\u001b[39mcontext_top)\n\u001b[1;32m   1324\u001b[0m \u001b[39m# compile top-level code (first pass for global variable sizes)\u001b[39;00m\n",
      "\u001b[0;31mTranspilerError\u001b[0m: \n      global motor_left_target, motor_right_target, \n                                                    ^\ninvalid syntax (line 3)"
     ]
    }
   ],
   "source": [
    "%%run_python\n",
    "@tdmclient.notebook.sync_var\n",
    "def testing_speed(motor_left, motor_right):\n",
    "    global motor_left_target, motor_right_target, \n",
    "    motor_left_target= motor_left\n",
    "    motor_right_target= motor_right\n",
    "\n",
    "testing_speed(50, 50)\n",
    "print_thymio_speed()\n",
    "time.sleep(2)\n",
    "testing_speed(0, 0)\n",
    "\n"
   ]
  },
  {
   "cell_type": "code",
   "execution_count": null,
   "metadata": {},
   "outputs": [],
   "source": []
  }
 ],
 "metadata": {
  "kernelspec": {
   "display_name": "base",
   "language": "python",
   "name": "python3"
  },
  "language_info": {
   "codemirror_mode": {
    "name": "ipython",
    "version": 3
   },
   "file_extension": ".py",
   "mimetype": "text/x-python",
   "name": "python",
   "nbconvert_exporter": "python",
   "pygments_lexer": "ipython3",
   "version": "3.11.5"
  }
 },
 "nbformat": 4,
 "nbformat_minor": 2
}
