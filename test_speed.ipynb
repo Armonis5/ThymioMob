{
 "cells": [
  {
   "cell_type": "code",
   "execution_count": 51,
   "metadata": {},
   "outputs": [],
   "source": [
    "import numpy as np\n",
    "import tdmclient\n",
    "import tdmclient.notebook\n",
    "import time"
   ]
  },
  {
   "cell_type": "code",
   "execution_count": 52,
   "metadata": {},
   "outputs": [],
   "source": [
    "await tdmclient.notebook.start()"
   ]
  },
  {
   "cell_type": "code",
   "execution_count": 53,
   "metadata": {},
   "outputs": [],
   "source": [
    "@tdmclient.notebook.sync_var\n",
    "def print_thymio_speed():\n",
    "    # speeds= values = np.arange(50, 151, 20)\n",
    "    #mls = []\n",
    "    #mrs = []\n",
    "    global motor_left_speed, motor_right_speed\n",
    "    mls = motor_left_speed\n",
    "    mrs = motor_right_speed\n",
    "    print(\"Left motor speed: \", mls)\n",
    "    print(\"Right motor speed: \", mrs)\n",
    "\n",
    "@tdmclient.notebook.sync_var\n",
    "def testing_speed(motor_left, motor_right):\n",
    "    global motor_left_target, motor_right_target\n",
    "    motor_left_target= motor_left\n",
    "    motor_right_target= motor_right"
   ]
  },
  {
   "cell_type": "code",
   "execution_count": 54,
   "metadata": {},
   "outputs": [
    {
     "name": "stdout",
     "output_type": "stream",
     "text": [
      "Left motor speed:  102\n",
      "Right motor speed:  103\n",
      "Left motor speed:  99\n",
      "Right motor speed:  99\n",
      "Left motor speed:  99\n",
      "Right motor speed:  101\n",
      "Left motor speed:  96\n",
      "Right motor speed:  94\n",
      "Left motor speed:  102\n",
      "Right motor speed:  101\n",
      "Left motor speed:  102\n",
      "Right motor speed:  100\n",
      "Left motor speed:  101\n",
      "Right motor speed:  94\n",
      "Left motor speed:  96\n",
      "Right motor speed:  98\n",
      "Left motor speed:  104\n",
      "Right motor speed:  103\n",
      "Left motor speed:  95\n",
      "Right motor speed:  101\n",
      "Left motor speed:  101\n",
      "Right motor speed:  100\n",
      "Left motor speed:  101\n",
      "Right motor speed:  101\n",
      "Left motor speed:  102\n",
      "Right motor speed:  96\n"
     ]
    }
   ],
   "source": [
    "testing_speed(100, 100)\n",
    "time.sleep(1)\n",
    "print_thymio_speed()\n",
    "time.sleep(1)\n",
    "print_thymio_speed()\n",
    "time.sleep(2)\n",
    "print_thymio_speed()\n",
    "time.sleep(1)\n",
    "print_thymio_speed()\n",
    "time.sleep(1)\n",
    "print_thymio_speed()\n",
    "time.sleep(1)\n",
    "print_thymio_speed()\n",
    "time.sleep(1)\n",
    "print_thymio_speed()\n",
    "time.sleep(1)\n",
    "print_thymio_speed()\n",
    "time.sleep(1)\n",
    "print_thymio_speed()\n",
    "time.sleep(2)\n",
    "print_thymio_speed()\n",
    "time.sleep(1)\n",
    "print_thymio_speed()\n",
    "time.sleep(1)\n",
    "print_thymio_speed()\n",
    "time.sleep(1)\n",
    "print_thymio_speed()\n",
    "testing_speed(0, 0)\n",
    "\n"
   ]
  },
  {
   "cell_type": "code",
   "execution_count": null,
   "metadata": {},
   "outputs": [],
   "source": []
  },
  {
   "cell_type": "code",
   "execution_count": null,
   "metadata": {},
   "outputs": [],
   "source": []
  }
 ],
 "metadata": {
  "kernelspec": {
   "display_name": "base",
   "language": "python",
   "name": "python3"
  },
  "language_info": {
   "codemirror_mode": {
    "name": "ipython",
    "version": 3
   },
   "file_extension": ".py",
   "mimetype": "text/x-python",
   "name": "python",
   "nbconvert_exporter": "python",
   "pygments_lexer": "ipython3",
   "version": "3.11.5"
  }
 },
 "nbformat": 4,
 "nbformat_minor": 2
}
